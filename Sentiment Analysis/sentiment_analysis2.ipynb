{
 "cells": [
  {
   "cell_type": "code",
   "execution_count": 2,
   "metadata": {},
   "outputs": [
    {
     "data": {
      "text/html": [
       "<div>\n",
       "<style scoped>\n",
       "    .dataframe tbody tr th:only-of-type {\n",
       "        vertical-align: middle;\n",
       "    }\n",
       "\n",
       "    .dataframe tbody tr th {\n",
       "        vertical-align: top;\n",
       "    }\n",
       "\n",
       "    .dataframe thead th {\n",
       "        text-align: right;\n",
       "    }\n",
       "</style>\n",
       "<table border=\"1\" class=\"dataframe\">\n",
       "  <thead>\n",
       "    <tr style=\"text-align: right;\">\n",
       "      <th></th>\n",
       "      <th>sentiment</th>\n",
       "      <th>text</th>\n",
       "    </tr>\n",
       "  </thead>\n",
       "  <tbody>\n",
       "    <tr>\n",
       "      <th>0</th>\n",
       "      <td>4</td>\n",
       "      <td>@stellargirl I loooooooovvvvvveee my Kindle2. ...</td>\n",
       "    </tr>\n",
       "    <tr>\n",
       "      <th>1</th>\n",
       "      <td>4</td>\n",
       "      <td>Reading my kindle2...  Love it... Lee childs i...</td>\n",
       "    </tr>\n",
       "    <tr>\n",
       "      <th>2</th>\n",
       "      <td>4</td>\n",
       "      <td>Ok, first assesment of the #kindle2 ...it fuck...</td>\n",
       "    </tr>\n",
       "    <tr>\n",
       "      <th>3</th>\n",
       "      <td>4</td>\n",
       "      <td>@kenburbary You'll love your Kindle2. I've had...</td>\n",
       "    </tr>\n",
       "    <tr>\n",
       "      <th>4</th>\n",
       "      <td>4</td>\n",
       "      <td>@mikefish  Fair enough. But i have the Kindle2...</td>\n",
       "    </tr>\n",
       "    <tr>\n",
       "      <th>...</th>\n",
       "      <td>...</td>\n",
       "      <td>...</td>\n",
       "    </tr>\n",
       "    <tr>\n",
       "      <th>493</th>\n",
       "      <td>2</td>\n",
       "      <td>Ask Programming: LaTeX or InDesign?: submitted...</td>\n",
       "    </tr>\n",
       "    <tr>\n",
       "      <th>494</th>\n",
       "      <td>0</td>\n",
       "      <td>On that note, I hate Word. I hate Pages. I hat...</td>\n",
       "    </tr>\n",
       "    <tr>\n",
       "      <th>495</th>\n",
       "      <td>4</td>\n",
       "      <td>Ahhh... back in a *real* text editing environm...</td>\n",
       "    </tr>\n",
       "    <tr>\n",
       "      <th>496</th>\n",
       "      <td>0</td>\n",
       "      <td>Trouble in Iran, I see. Hmm. Iran. Iran so far...</td>\n",
       "    </tr>\n",
       "    <tr>\n",
       "      <th>497</th>\n",
       "      <td>0</td>\n",
       "      <td>Reading the tweets coming out of Iran... The w...</td>\n",
       "    </tr>\n",
       "  </tbody>\n",
       "</table>\n",
       "<p>498 rows × 2 columns</p>\n",
       "</div>"
      ],
      "text/plain": [
       "     sentiment                                               text\n",
       "0            4  @stellargirl I loooooooovvvvvveee my Kindle2. ...\n",
       "1            4  Reading my kindle2...  Love it... Lee childs i...\n",
       "2            4  Ok, first assesment of the #kindle2 ...it fuck...\n",
       "3            4  @kenburbary You'll love your Kindle2. I've had...\n",
       "4            4  @mikefish  Fair enough. But i have the Kindle2...\n",
       "..         ...                                                ...\n",
       "493          2  Ask Programming: LaTeX or InDesign?: submitted...\n",
       "494          0  On that note, I hate Word. I hate Pages. I hat...\n",
       "495          4  Ahhh... back in a *real* text editing environm...\n",
       "496          0  Trouble in Iran, I see. Hmm. Iran. Iran so far...\n",
       "497          0  Reading the tweets coming out of Iran... The w...\n",
       "\n",
       "[498 rows x 2 columns]"
      ]
     },
     "execution_count": 2,
     "metadata": {},
     "output_type": "execute_result"
    }
   ],
   "source": [
    "import pandas as pd\n",
    "df = pd.read_csv('tweets.csv')\n",
    "df.drop(['id','date','query','user'],axis='columns',inplace=True)\n",
    "df"
   ]
  },
  {
   "cell_type": "code",
   "execution_count": 24,
   "metadata": {},
   "outputs": [
    {
     "data": {
      "text/html": [
       "<div>\n",
       "<style scoped>\n",
       "    .dataframe tbody tr th:only-of-type {\n",
       "        vertical-align: middle;\n",
       "    }\n",
       "\n",
       "    .dataframe tbody tr th {\n",
       "        vertical-align: top;\n",
       "    }\n",
       "\n",
       "    .dataframe thead tr th {\n",
       "        text-align: left;\n",
       "    }\n",
       "\n",
       "    .dataframe thead tr:last-of-type th {\n",
       "        text-align: right;\n",
       "    }\n",
       "</style>\n",
       "<table border=\"1\" class=\"dataframe\">\n",
       "  <thead>\n",
       "    <tr>\n",
       "      <th></th>\n",
       "      <th colspan=\"4\" halign=\"left\">text</th>\n",
       "      <th colspan=\"4\" halign=\"left\">text_n</th>\n",
       "    </tr>\n",
       "    <tr>\n",
       "      <th></th>\n",
       "      <th>count</th>\n",
       "      <th>unique</th>\n",
       "      <th>top</th>\n",
       "      <th>freq</th>\n",
       "      <th>count</th>\n",
       "      <th>unique</th>\n",
       "      <th>top</th>\n",
       "      <th>freq</th>\n",
       "    </tr>\n",
       "    <tr>\n",
       "      <th>sentiment</th>\n",
       "      <th></th>\n",
       "      <th></th>\n",
       "      <th></th>\n",
       "      <th></th>\n",
       "      <th></th>\n",
       "      <th></th>\n",
       "      <th></th>\n",
       "      <th></th>\n",
       "    </tr>\n",
       "  </thead>\n",
       "  <tbody>\n",
       "    <tr>\n",
       "      <th>0</th>\n",
       "      <td>177</td>\n",
       "      <td>177</td>\n",
       "      <td>@sportsguy33 Ummm, having some Time Warner pro...</td>\n",
       "      <td>1</td>\n",
       "      <td>177</td>\n",
       "      <td>177</td>\n",
       "      <td>at Time Warner for causin me to have slow inte...</td>\n",
       "      <td>1</td>\n",
       "    </tr>\n",
       "    <tr>\n",
       "      <th>2</th>\n",
       "      <td>139</td>\n",
       "      <td>139</td>\n",
       "      <td>About to watch Night at the Museum with Ryan a...</td>\n",
       "      <td>1</td>\n",
       "      <td>139</td>\n",
       "      <td>139</td>\n",
       "      <td>CEO China will continue to be key partner</td>\n",
       "      <td>1</td>\n",
       "    </tr>\n",
       "    <tr>\n",
       "      <th>4</th>\n",
       "      <td>182</td>\n",
       "      <td>182</td>\n",
       "      <td>My Kindle2 came and I LOVE it! :)</td>\n",
       "      <td>1</td>\n",
       "      <td>182</td>\n",
       "      <td>182</td>\n",
       "      <td>when Lebron be do in the NBA he will probably ...</td>\n",
       "      <td>1</td>\n",
       "    </tr>\n",
       "  </tbody>\n",
       "</table>\n",
       "</div>"
      ],
      "text/plain": [
       "           text                                                            \\\n",
       "          count unique                                                top   \n",
       "sentiment                                                                   \n",
       "0           177    177  @sportsguy33 Ummm, having some Time Warner pro...   \n",
       "2           139    139  About to watch Night at the Museum with Ryan a...   \n",
       "4           182    182                  My Kindle2 came and I LOVE it! :)   \n",
       "\n",
       "               text_n         \\\n",
       "          freq  count unique   \n",
       "sentiment                      \n",
       "0            1    177    177   \n",
       "2            1    139    139   \n",
       "4            1    182    182   \n",
       "\n",
       "                                                                   \n",
       "                                                         top freq  \n",
       "sentiment                                                          \n",
       "0          at Time Warner for causin me to have slow inte...    1  \n",
       "2                  CEO China will continue to be key partner    1  \n",
       "4          when Lebron be do in the NBA he will probably ...    1  "
      ]
     },
     "execution_count": 24,
     "metadata": {},
     "output_type": "execute_result"
    }
   ],
   "source": [
    "df.groupby('sentiment').describe()"
   ]
  },
  {
   "cell_type": "code",
   "execution_count": 14,
   "metadata": {},
   "outputs": [],
   "source": [
    "import nltk\n",
    "from nltk.stem.wordnet import WordNetLemmatizer\n",
    "import re\n",
    "import numpy as np\n",
    "import itertools\n",
    "\n",
    "lem = WordNetLemmatizer()\n",
    "\n",
    "\n",
    "def cleaning(text):\n",
    "        txt = str(text)\n",
    "        txt = re.sub(r\"http\\S+\", \"\", txt)\n",
    "        if len(txt) == 0:\n",
    "            return 'no text'\n",
    "        else:\n",
    "            txt = txt.split()\n",
    "            index = 0\n",
    "            for j in range(len(txt)):\n",
    "                if txt[j][0] == '@':\n",
    "                    index = j\n",
    "            txt = np.delete(txt, index)\n",
    "            if len(txt) == 0:\n",
    "                return 'no text'\n",
    "            else:\n",
    "                words = txt[0]\n",
    "                for k in range(len(txt)-1):\n",
    "                    words+= \" \" + txt[k+1]\n",
    "                txt = words\n",
    "                txt = re.sub(r'[^\\w]', ' ', txt)\n",
    "                if len(txt) == 0:\n",
    "                    return 'no text'\n",
    "                else:\n",
    "                    txt = ''.join(''.join(s)[:2] for _, s in itertools.groupby(txt))\n",
    "                    txt = txt.replace(\"'\", \"\")\n",
    "                    txt = nltk.tokenize.word_tokenize(txt)\n",
    "                    #data.content[i] = [w for w in data.content[i] if not w in stopset]\n",
    "                    for j in range(len(txt)):\n",
    "                        txt[j] = lem.lemmatize(txt[j], \"v\")\n",
    "                    if len(txt) == 0:\n",
    "                        return 'no text'\n",
    "                    else:\n",
    "                        return ' '.join(txt)"
   ]
  },
  {
   "cell_type": "code",
   "execution_count": 15,
   "metadata": {},
   "outputs": [
    {
     "data": {
      "text/html": [
       "<div>\n",
       "<style scoped>\n",
       "    .dataframe tbody tr th:only-of-type {\n",
       "        vertical-align: middle;\n",
       "    }\n",
       "\n",
       "    .dataframe tbody tr th {\n",
       "        vertical-align: top;\n",
       "    }\n",
       "\n",
       "    .dataframe thead th {\n",
       "        text-align: right;\n",
       "    }\n",
       "</style>\n",
       "<table border=\"1\" class=\"dataframe\">\n",
       "  <thead>\n",
       "    <tr style=\"text-align: right;\">\n",
       "      <th></th>\n",
       "      <th>sentiment</th>\n",
       "      <th>text</th>\n",
       "      <th>text_n</th>\n",
       "    </tr>\n",
       "  </thead>\n",
       "  <tbody>\n",
       "    <tr>\n",
       "      <th>0</th>\n",
       "      <td>4</td>\n",
       "      <td>@stellargirl I loooooooovvvvvveee my Kindle2. ...</td>\n",
       "      <td>I loovvee my Kindle2 Not that the DX be cool b...</td>\n",
       "    </tr>\n",
       "    <tr>\n",
       "      <th>1</th>\n",
       "      <td>4</td>\n",
       "      <td>Reading my kindle2...  Love it... Lee childs i...</td>\n",
       "      <td>my kindle2 Love it Lee childs be good read</td>\n",
       "    </tr>\n",
       "    <tr>\n",
       "      <th>2</th>\n",
       "      <td>4</td>\n",
       "      <td>Ok, first assesment of the #kindle2 ...it fuck...</td>\n",
       "      <td>first assesment of the kindle2 it fuck rock</td>\n",
       "    </tr>\n",
       "    <tr>\n",
       "      <th>3</th>\n",
       "      <td>4</td>\n",
       "      <td>@kenburbary You'll love your Kindle2. I've had...</td>\n",
       "      <td>You ll love your Kindle2 I ve have mine for a ...</td>\n",
       "    </tr>\n",
       "    <tr>\n",
       "      <th>4</th>\n",
       "      <td>4</td>\n",
       "      <td>@mikefish  Fair enough. But i have the Kindle2...</td>\n",
       "      <td>Fair enough But i have the Kindle2 and I think...</td>\n",
       "    </tr>\n",
       "    <tr>\n",
       "      <th>...</th>\n",
       "      <td>...</td>\n",
       "      <td>...</td>\n",
       "      <td>...</td>\n",
       "    </tr>\n",
       "    <tr>\n",
       "      <th>493</th>\n",
       "      <td>2</td>\n",
       "      <td>Ask Programming: LaTeX or InDesign?: submitted...</td>\n",
       "      <td>Programming LaTeX or InDesign submit by calcio...</td>\n",
       "    </tr>\n",
       "    <tr>\n",
       "      <th>494</th>\n",
       "      <td>0</td>\n",
       "      <td>On that note, I hate Word. I hate Pages. I hat...</td>\n",
       "      <td>that note I hate Word I hate Pages I hate LaTe...</td>\n",
       "    </tr>\n",
       "    <tr>\n",
       "      <th>495</th>\n",
       "      <td>4</td>\n",
       "      <td>Ahhh... back in a *real* text editing environm...</td>\n",
       "      <td>back in a real text edit environment I lt 3 LaTeX</td>\n",
       "    </tr>\n",
       "    <tr>\n",
       "      <th>496</th>\n",
       "      <td>0</td>\n",
       "      <td>Trouble in Iran, I see. Hmm. Iran. Iran so far...</td>\n",
       "      <td>in Iran I see Hmm Iran Iran so far away flocko...</td>\n",
       "    </tr>\n",
       "    <tr>\n",
       "      <th>497</th>\n",
       "      <td>0</td>\n",
       "      <td>Reading the tweets coming out of Iran... The w...</td>\n",
       "      <td>the tweet come out of Iran The whole thing be ...</td>\n",
       "    </tr>\n",
       "  </tbody>\n",
       "</table>\n",
       "<p>498 rows × 3 columns</p>\n",
       "</div>"
      ],
      "text/plain": [
       "     sentiment                                               text  \\\n",
       "0            4  @stellargirl I loooooooovvvvvveee my Kindle2. ...   \n",
       "1            4  Reading my kindle2...  Love it... Lee childs i...   \n",
       "2            4  Ok, first assesment of the #kindle2 ...it fuck...   \n",
       "3            4  @kenburbary You'll love your Kindle2. I've had...   \n",
       "4            4  @mikefish  Fair enough. But i have the Kindle2...   \n",
       "..         ...                                                ...   \n",
       "493          2  Ask Programming: LaTeX or InDesign?: submitted...   \n",
       "494          0  On that note, I hate Word. I hate Pages. I hat...   \n",
       "495          4  Ahhh... back in a *real* text editing environm...   \n",
       "496          0  Trouble in Iran, I see. Hmm. Iran. Iran so far...   \n",
       "497          0  Reading the tweets coming out of Iran... The w...   \n",
       "\n",
       "                                                text_n  \n",
       "0    I loovvee my Kindle2 Not that the DX be cool b...  \n",
       "1           my kindle2 Love it Lee childs be good read  \n",
       "2          first assesment of the kindle2 it fuck rock  \n",
       "3    You ll love your Kindle2 I ve have mine for a ...  \n",
       "4    Fair enough But i have the Kindle2 and I think...  \n",
       "..                                                 ...  \n",
       "493  Programming LaTeX or InDesign submit by calcio...  \n",
       "494  that note I hate Word I hate Pages I hate LaTe...  \n",
       "495  back in a real text edit environment I lt 3 LaTeX  \n",
       "496  in Iran I see Hmm Iran Iran so far away flocko...  \n",
       "497  the tweet come out of Iran The whole thing be ...  \n",
       "\n",
       "[498 rows x 3 columns]"
      ]
     },
     "execution_count": 15,
     "metadata": {},
     "output_type": "execute_result"
    }
   ],
   "source": [
    "df['text_n'] = df['text'].apply(lambda x: cleaning(x))\n",
    "df"
   ]
  },
  {
   "cell_type": "code",
   "execution_count": 131,
   "metadata": {},
   "outputs": [
    {
     "data": {
      "text/plain": [
       "398"
      ]
     },
     "execution_count": 131,
     "metadata": {},
     "output_type": "execute_result"
    }
   ],
   "source": [
    "from sklearn.model_selection import train_test_split\n",
    "x_train,x_test,y_train,y_test = train_test_split(df.text_n,df.sentiment,train_size=4/5,random_state=89)\n",
    "\n",
    "len(x_train)"
   ]
  },
  {
   "cell_type": "code",
   "execution_count": 132,
   "metadata": {},
   "outputs": [],
   "source": [
    "from sklearn.feature_extraction.text import CountVectorizer\n",
    "\n",
    "v = CountVectorizer()\n",
    "x_train_count = v.fit_transform(x_train.values)\n",
    "x_test_count = v.transform(x_test)"
   ]
  },
  {
   "cell_type": "code",
   "execution_count": 133,
   "metadata": {},
   "outputs": [
    {
     "data": {
      "text/plain": [
       "MultinomialNB()"
      ]
     },
     "execution_count": 133,
     "metadata": {},
     "output_type": "execute_result"
    }
   ],
   "source": [
    "from sklearn.naive_bayes import MultinomialNB\n",
    "\n",
    "model = MultinomialNB()\n",
    "model.fit(x_train_count,y_train)"
   ]
  },
  {
   "cell_type": "code",
   "execution_count": 134,
   "metadata": {},
   "outputs": [
    {
     "data": {
      "text/plain": [
       "0.76"
      ]
     },
     "execution_count": 134,
     "metadata": {},
     "output_type": "execute_result"
    }
   ],
   "source": [
    "model.score(x_test_count,y_test)"
   ]
  },
  {
   "cell_type": "code",
   "execution_count": 135,
   "metadata": {},
   "outputs": [
    {
     "data": {
      "text/plain": [
       "Pipeline(steps=[('vectorizer', CountVectorizer()), ('nb', MultinomialNB())])"
      ]
     },
     "execution_count": 135,
     "metadata": {},
     "output_type": "execute_result"
    }
   ],
   "source": [
    "from sklearn.pipeline import Pipeline\n",
    "clf = Pipeline([\n",
    "    ('vectorizer',CountVectorizer()),\n",
    "    ('nb',MultinomialNB())\n",
    "])\n",
    "\n",
    "clf.fit(x_train,y_train)"
   ]
  },
  {
   "cell_type": "code",
   "execution_count": 136,
   "metadata": {},
   "outputs": [
    {
     "data": {
      "text/plain": [
       "array([0, 2, 0, 0, 4, 0, 4, 0, 4, 0, 4, 4, 4, 2, 2, 4, 0, 4, 4, 2, 4, 0,\n",
       "       4, 4, 4, 4, 0, 0, 4, 2, 0, 4, 4, 4, 0, 4, 0, 0, 0, 4, 4, 4, 0, 0,\n",
       "       4, 0, 0, 2, 4, 0, 0, 0, 4, 0, 4, 4, 2, 4, 4, 0, 2, 4, 0, 4, 4, 0,\n",
       "       0, 0, 0, 0, 0, 2, 2, 4, 4, 0, 4, 2, 2, 2, 4, 2, 0, 4, 0, 0, 4, 2,\n",
       "       0, 0, 4, 4, 4, 0, 4, 4, 0, 0, 4, 4], dtype=int64)"
      ]
     },
     "execution_count": 136,
     "metadata": {},
     "output_type": "execute_result"
    }
   ],
   "source": [
    "y_pred = clf.predict(x_test)\n",
    "y_pred"
   ]
  },
  {
   "cell_type": "code",
   "execution_count": 137,
   "metadata": {},
   "outputs": [
    {
     "data": {
      "text/plain": [
       "array([[32,  0,  5],\n",
       "       [ 4, 12,  8],\n",
       "       [ 4,  3, 32]], dtype=int64)"
      ]
     },
     "execution_count": 137,
     "metadata": {},
     "output_type": "execute_result"
    }
   ],
   "source": [
    "from sklearn.metrics import confusion_matrix\n",
    "cm = confusion_matrix(y_test, y_pred)\n",
    "cm"
   ]
  },
  {
   "cell_type": "code",
   "execution_count": 138,
   "metadata": {},
   "outputs": [
    {
     "data": {
      "text/plain": [
       "Text(33.0, 0.5, 'Truth')"
      ]
     },
     "execution_count": 138,
     "metadata": {},
     "output_type": "execute_result"
    },
    {
     "data": {
      "image/png": "[encoded data removed]",
      "text/plain": [
       "<Figure size 432x288 with 2 Axes>"
      ]
     },
     "metadata": {
      "needs_background": "light"
     },
     "output_type": "display_data"
    }
   ],
   "source": [
    "import seaborn as sb\n",
    "import matplotlib.pyplot as plt\n",
    "\n",
    "sb.heatmap(cm,annot=True)\n",
    "plt.xlabel('Predicted')\n",
    "plt.ylabel('Truth')"
   ]
  },
  {
   "cell_type": "code",
   "execution_count": 85,
   "metadata": {
    "scrolled": true
   },
   "outputs": [
    {
     "name": "stdout",
     "output_type": "stream",
     "text": [
      "45 0.71\n",
      "46 0.67\n",
      "47 0.64\n",
      "48 0.62\n",
      "49 0.62\n",
      "50 0.73\n",
      "51 0.67\n",
      "52 0.71\n",
      "53 0.68\n",
      "54 0.66\n",
      "55 0.63\n",
      "56 0.63\n",
      "57 0.73\n",
      "58 0.69\n",
      "59 0.71\n",
      "60 0.62\n",
      "61 0.64\n",
      "62 0.69\n",
      "63 0.66\n",
      "64 0.67\n",
      "65 0.65\n",
      "66 0.69\n",
      "67 0.73\n",
      "68 0.67\n",
      "69 0.66\n",
      "70 0.65\n",
      "71 0.69\n",
      "72 0.7\n",
      "73 0.59\n",
      "74 0.67\n",
      "75 0.6\n",
      "76 0.73\n",
      "77 0.7\n",
      "78 0.6\n",
      "79 0.71\n",
      "80 0.75\n",
      "81 0.7\n",
      "82 0.67\n",
      "83 0.65\n",
      "84 0.7\n",
      "85 0.67\n",
      "86 0.64\n",
      "87 0.66\n",
      "88 0.68\n",
      "89 0.76\n",
      "90 0.66\n",
      "91 0.71\n",
      "92 0.61\n",
      "93 0.7\n",
      "94 0.65\n",
      "95 0.65\n",
      "96 0.65\n",
      "97 0.64\n",
      "98 0.68\n",
      "99 0.73\n"
     ]
    }
   ],
   "source": [
    "from sklearn.model_selection import train_test_split\n",
    "from sklearn.feature_extraction.text import CountVectorizer\n",
    "from sklearn.naive_bayes import MultinomialNB\n",
    "v = CountVectorizer()\n",
    "\n",
    "for i in range(45,100):\n",
    "    x_train,x_test,y_train,y_test = train_test_split(df.text_n,df.sentiment,train_size=4/5,random_state=i)\n",
    "    x_train_count = v.fit_transform(x_train.values)\n",
    "    model = MultinomialNB()\n",
    "    model.fit(x_train_count,y_train)\n",
    "    x_test_count = v.transform(x_test)\n",
    "    res = model.score(x_test_count,y_test)\n",
    "    print(i, res)"
   ]
  },
  {
   "cell_type": "code",
   "execution_count": 146,
   "metadata": {},
   "outputs": [
    {
     "data": {
      "text/plain": [
       "array([2, 4, 4, 0, 0, 0, 2], dtype=int64)"
      ]
     },
     "execution_count": 146,
     "metadata": {},
     "output_type": "execute_result"
    }
   ],
   "source": [
    "text = [\n",
    "    'Ask Programming: LaTeX or InDesign?: submitted by calcio1 [link] [1 comment] http://tinyurl.com/myfmf7',\n",
    "    'using Linux and loving it - so much nicer than windows... Looking forward to using the wysiwyg latex editor!',\n",
    "    'After using LaTeX a lot, any other typeset mathematics just looks hideous.',\n",
    "    'Trouble in Iran, I see. Hmm. Iran. Iran so far away. #flockofseagullsweregeopoliticallycorrect',\n",
    "    'Reading the tweets coming out of Iran... The whole thing is terrifying and incredibly sad...',\n",
    "    'Haters are gonna hate',\n",
    "    'this is a car'\n",
    "]\n",
    "\n",
    "text_count = v.transform(text)\n",
    "model.predict(text_count)"
   ]
  },
  {
   "cell_type": "code",
   "execution_count": 149,
   "metadata": {},
   "outputs": [
    {
     "data": {
      "text/plain": [
       "4"
      ]
     },
     "execution_count": 149,
     "metadata": {},
     "output_type": "execute_result"
    }
   ],
   "source": [
    "text = ['you look']\n",
    "model.predict(v.transform(text))[0]"
   ]
  },
  {
   "cell_type": "code",
   "execution_count": 150,
   "metadata": {},
   "outputs": [],
   "source": [
    "import pickle\n",
    "with open('sentiment.pickle','wb') as f:\n",
    "    pickle.dump(model,f)"
   ]
  },
  {
   "cell_type": "code",
   "execution_count": 152,
   "metadata": {},
   "outputs": [],
   "source": [
    "with open('vectorisor.pickle','wb') as w:\n",
    "    pickle.dump(v,w)"
   ]
  }
 ],
 "metadata": {
  "kernelspec": {
   "display_name": "Python 3",
   "language": "python",
   "name": "python3"
  },
  "language_info": {
   "codemirror_mode": {
    "name": "ipython",
    "version": 3
   },
   "file_extension": ".py",
   "mimetype": "text/x-python",
   "name": "python",
   "nbconvert_exporter": "python",
   "pygments_lexer": "ipython3",
   "version": "3.8.3"
  }
 },
 "nbformat": 4,
 "nbformat_minor": 4
}
